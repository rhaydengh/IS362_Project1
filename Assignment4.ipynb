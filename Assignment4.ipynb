{
 "cells": [
  {
   "cell_type": "markdown",
   "metadata": {},
   "source": [
    "## Use pandas to read a .csv file\n"
   ]
  },
  {
   "cell_type": "code",
   "execution_count": 220,
   "metadata": {},
   "outputs": [
    {
     "name": "stdout",
     "output_type": "stream",
     "text": [
      "    Airline    Destination Arrival Status  Number of Flights\n",
      "0    Alaska    Los Angelos        On Time                497\n",
      "1    Alaska    Los Angelos        Delayed                 62\n",
      "2    Alaska        Phoenix        On Time                221\n",
      "3    Alaska        Phoenix        Delayed                 12\n",
      "4    Alaska      San Diego        On Time                212\n",
      "5    Alaska      San Diego        Delayed                 20\n",
      "6    Alaska  San Francisco        On Time                503\n",
      "7    Alaska  San Francisco        Delayed                102\n",
      "8    Alaska        Seattle        On Time               1841\n",
      "9    Alaska        Seattle        Delayed                305\n",
      "10  AM West    Los Angelos        On Time                694\n",
      "11  AM West    Los Angelos        Delayed                117\n",
      "12  AM West        Phoenix        On Time               4840\n",
      "13  AM West        Phoenix        Delayed                415\n",
      "14  AM West      San Diego        On Time                383\n",
      "15  AM West      San Diego        Delayed                 65\n",
      "16  AM West  San Francisco        On Time                320\n",
      "17  AM West  San Francisco        Delayed                129\n",
      "18  AM West        Seattle        On Time                201\n",
      "19  AM West        Seattle        Delayed                 61\n"
     ]
    }
   ],
   "source": [
    "import numpy as np\n",
    "import matplotlib.pyplot as plt\n",
    "import pandas as pd\n",
    "from pandas import DataFrame, Series \n",
    "\n",
    "df = pd.read_csv('airlines.csv')\n",
    "print(df)\n"
   ]
  },
  {
   "cell_type": "markdown",
   "metadata": {},
   "source": [
    " ## Total Delayed Flights from Alaska"
   ]
  },
  {
   "cell_type": "code",
   "execution_count": 221,
   "metadata": {
    "scrolled": true
   },
   "outputs": [
    {
     "name": "stdout",
     "output_type": "stream",
     "text": [
      "Alaska Delayed Flights\n",
      "  Airline    Destination  Number of Flights\n",
      "1  Alaska    Los Angelos                 62\n",
      "3  Alaska        Phoenix                 12\n",
      "5  Alaska      San Diego                 20\n",
      "7  Alaska  San Francisco                102\n",
      "9  Alaska        Seattle                305\n",
      "Total Number of Flights    501\n",
      "dtype: int64\n"
     ]
    }
   ],
   "source": [
    "print('Alaska Delayed Flights')\n",
    "newdf = df.iloc[[1,3,5,7,9],[0,1,3]]\n",
    "print(newdf)\n",
    "print('Total', df.iloc[[1,3,5,7,9],[3]].sum())"
   ]
  },
  {
   "cell_type": "markdown",
   "metadata": {},
   "source": [
    " ## Total Delayed Flights from AM West"
   ]
  },
  {
   "cell_type": "code",
   "execution_count": 222,
   "metadata": {
    "scrolled": true
   },
   "outputs": [
    {
     "name": "stdout",
     "output_type": "stream",
     "text": [
      "AM West Delayed Flights\n",
      "    Airline    Destination  Number of Flights\n",
      "11  AM West    Los Angelos                117\n",
      "13  AM West        Phoenix                415\n",
      "15  AM West      San Diego                 65\n",
      "17  AM West  San Francisco                129\n",
      "19  AM West        Seattle                 61\n",
      "Total Number of Flights    787\n",
      "dtype: int64\n"
     ]
    }
   ],
   "source": [
    "print('AM West Delayed Flights')\n",
    "newdf = df.iloc[[11,13,15,17,19],[0,1,3]]\n",
    "print(newdf)\n",
    "print('Total', df.iloc[[11,13,15,17,19],[3]].sum())"
   ]
  },
  {
   "cell_type": "markdown",
   "metadata": {},
   "source": [
    " ## Maximum Delayed Flights"
   ]
  },
  {
   "cell_type": "code",
   "execution_count": 228,
   "metadata": {},
   "outputs": [
    {
     "name": "stdout",
     "output_type": "stream",
     "text": [
      "AM West Delayed Flights\n",
      "Maximum Delayed (Phoenix) Number of Flights    415\n",
      "dtype: int64\n",
      "Alaska Delayed Flights\n",
      "Maximum Delayed (Seattle) Number of Flights    305\n",
      "dtype: int64\n"
     ]
    }
   ],
   "source": [
    "\n",
    "print('AM West Delayed Flights')\n",
    "print('Maximum Delayed (Phoenix)', df.iloc[[11,13,15,17,19],[3]].max())\n",
    "print('Alaska Delayed Flights')\n",
    "print('Maximum Delayed (Seattle)', df.iloc[[1,3,5,7,9],[3]].max())\n"
   ]
  },
  {
   "cell_type": "code",
   "execution_count": null,
   "metadata": {
    "collapsed": true
   },
   "outputs": [],
   "source": []
  }
 ],
 "metadata": {
  "kernelspec": {
   "display_name": "Python 3",
   "language": "python",
   "name": "python3"
  },
  "language_info": {
   "codemirror_mode": {
    "name": "ipython",
    "version": 3
   },
   "file_extension": ".py",
   "mimetype": "text/x-python",
   "name": "python",
   "nbconvert_exporter": "python",
   "pygments_lexer": "ipython3",
   "version": "3.6.3"
  }
 },
 "nbformat": 4,
 "nbformat_minor": 2
}
